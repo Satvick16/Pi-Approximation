{
  "nbformat": 4,
  "nbformat_minor": 0,
  "metadata": {
    "colab": {
      "name": "gradient-descent.ipynb",
      "provenance": [],
      "authorship_tag": "ABX9TyP1xh+K5uJvj6ThLhaBt0BL",
      "include_colab_link": true
    },
    "kernelspec": {
      "name": "python3",
      "display_name": "Python 3"
    }
  },
  "cells": [
    {
      "cell_type": "markdown",
      "metadata": {
        "id": "view-in-github",
        "colab_type": "text"
      },
      "source": [
        "<a href=\"https://colab.research.google.com/github/Satvick16/Pi-Circle-Approximation/blob/master/gradient_descent.ipynb\" target=\"_parent\"><img src=\"https://colab.research.google.com/assets/colab-badge.svg\" alt=\"Open In Colab\"/></a>"
      ]
    },
    {
      "cell_type": "code",
      "metadata": {
        "id": "mRQgBMABjjQH",
        "colab_type": "code",
        "colab": {}
      },
      "source": [
        "import matplotlib.pyplot as plt\n",
        "import numpy as np\n",
        "from sympy import *\n",
        "import time\n",
        "\n",
        "\n",
        "def update(slope_sign, prev_x0):\n",
        "\n",
        "    x = Symbol('x')\n",
        "    f = x ** 2 - 4\n",
        "\n",
        "    f_prime = f.diff(x)\n",
        "\n",
        "    f_prime = lambdify(x, f_prime)\n",
        "    f = lambdify(x, f)\n",
        "\n",
        "    if slope_sign == 0:\n",
        "        exit()\n",
        "    elif slope_sign < 0:\n",
        "        x0 = prev_x0 + 0.5\n",
        "    else:\n",
        "        x0 = prev_x0 - 0.5\n",
        "\n",
        "    try:\n",
        "        y0 = f(x0)\n",
        "        m = f_prime(x0)\n",
        "\n",
        "        if m > 0:\n",
        "            slope_sign = 1\n",
        "        elif m < 0:\n",
        "            slope_sign = -1\n",
        "        else:\n",
        "            slope_sign = 0\n",
        "\n",
        "        ########################################################################\n",
        "\n",
        "        x = np.linspace(-4, 4, 999)\n",
        "        y = m * x - m * x0 + y0\n",
        "\n",
        "        plt.plot(x, y)\n",
        "\n",
        "        update(slope_sign, x0)\n",
        "\n",
        "    except UnboundLocalError:\n",
        "        exit()\n",
        "    except RecursionError:\n",
        "        exit()\n",
        "\n",
        "################################################################################\n",
        "\n",
        "x = np.linspace(-4, 4, 999)\n",
        "f = x ** 2 - 4\n",
        "\n",
        "plt.xlim(-4, 4)\n",
        "plt.ylim(-5, 5)\n",
        "\n",
        "plt.plot(x, f)\n",
        "\n",
        "initial_x0 = -2.5\n",
        "x = Symbol('x')\n",
        "f = x ** 2 - 4\n",
        "f_prime = f.diff(x)\n",
        "f_prime = lambdify(x, f_prime)\n",
        "m = f_prime(initial_x0)\n",
        "\n",
        "if m > 0:\n",
        "    initial_slope_sign = 1\n",
        "elif m < 0:\n",
        "    initial_slope_sign = -1\n",
        "else:\n",
        "    initial_slope_sign = 0\n",
        "\n",
        "update(initial_slope_sign, initial_x0)\n"
      ],
      "execution_count": null,
      "outputs": []
    }
  ]
}